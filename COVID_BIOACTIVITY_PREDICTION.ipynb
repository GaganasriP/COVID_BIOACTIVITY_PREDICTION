{
 "cells": [
  {
   "cell_type": "code",
   "execution_count": 2,
   "metadata": {},
   "outputs": [],
   "source": [
    "import pandas as pd\n",
    "import numpy as np\n",
    "import matplotlib.pyplot as plt\n",
    "%matplotlib inline"
   ]
  },
  {
   "cell_type": "code",
   "execution_count": 3,
   "metadata": {
    "scrolled": true
   },
   "outputs": [
    {
     "data": {
      "text/html": [
       "<div>\n",
       "<style scoped>\n",
       "    .dataframe tbody tr th:only-of-type {\n",
       "        vertical-align: middle;\n",
       "    }\n",
       "\n",
       "    .dataframe tbody tr th {\n",
       "        vertical-align: top;\n",
       "    }\n",
       "\n",
       "    .dataframe thead th {\n",
       "        text-align: right;\n",
       "    }\n",
       "</style>\n",
       "<table border=\"1\" class=\"dataframe\">\n",
       "  <thead>\n",
       "    <tr style=\"text-align: right;\">\n",
       "      <th></th>\n",
       "      <th>molecule_chembl_id</th>\n",
       "      <th>canonical_smiles</th>\n",
       "      <th>standard_value</th>\n",
       "      <th>standard_units</th>\n",
       "      <th>MOLECULAR WEIGHT</th>\n",
       "      <th>PSA</th>\n",
       "      <th>logP</th>\n",
       "      <th>HBA</th>\n",
       "      <th>HBD</th>\n",
       "    </tr>\n",
       "  </thead>\n",
       "  <tbody>\n",
       "    <tr>\n",
       "      <th>0</th>\n",
       "      <td>CHEMBL187579</td>\n",
       "      <td>Cc1noc(C)c1CN1C(=O)C(=O)c2cc(C#N)ccc21</td>\n",
       "      <td>7200.0</td>\n",
       "      <td>nM</td>\n",
       "      <td>281.271</td>\n",
       "      <td>87.20</td>\n",
       "      <td>1.89262</td>\n",
       "      <td>5.0</td>\n",
       "      <td>0.0</td>\n",
       "    </tr>\n",
       "    <tr>\n",
       "      <th>1</th>\n",
       "      <td>CHEMBL188487</td>\n",
       "      <td>O=C1C(=O)N(Cc2ccc(F)cc2Cl)c2ccc(I)cc21</td>\n",
       "      <td>9400.0</td>\n",
       "      <td>nM</td>\n",
       "      <td>415.589</td>\n",
       "      <td>37.38</td>\n",
       "      <td>3.81320</td>\n",
       "      <td>2.0</td>\n",
       "      <td>0.0</td>\n",
       "    </tr>\n",
       "    <tr>\n",
       "      <th>2</th>\n",
       "      <td>CHEMBL185698</td>\n",
       "      <td>O=C1C(=O)N(CC2COc3ccccc3O2)c2ccc(I)cc21</td>\n",
       "      <td>13500.0</td>\n",
       "      <td>nM</td>\n",
       "      <td>421.190</td>\n",
       "      <td>55.84</td>\n",
       "      <td>2.66050</td>\n",
       "      <td>4.0</td>\n",
       "      <td>0.0</td>\n",
       "    </tr>\n",
       "    <tr>\n",
       "      <th>3</th>\n",
       "      <td>CHEMBL426082</td>\n",
       "      <td>O=C1C(=O)N(Cc2cc3ccccc3s2)c2ccccc21</td>\n",
       "      <td>13110.0</td>\n",
       "      <td>nM</td>\n",
       "      <td>293.347</td>\n",
       "      <td>37.38</td>\n",
       "      <td>3.63080</td>\n",
       "      <td>3.0</td>\n",
       "      <td>0.0</td>\n",
       "    </tr>\n",
       "    <tr>\n",
       "      <th>4</th>\n",
       "      <td>CHEMBL187717</td>\n",
       "      <td>O=C1C(=O)N(Cc2cc3ccccc3s2)c2c1cccc2[N+](=O)[O-]</td>\n",
       "      <td>2000.0</td>\n",
       "      <td>nM</td>\n",
       "      <td>338.344</td>\n",
       "      <td>80.52</td>\n",
       "      <td>3.53900</td>\n",
       "      <td>5.0</td>\n",
       "      <td>0.0</td>\n",
       "    </tr>\n",
       "    <tr>\n",
       "      <th>...</th>\n",
       "      <td>...</td>\n",
       "      <td>...</td>\n",
       "      <td>...</td>\n",
       "      <td>...</td>\n",
       "      <td>...</td>\n",
       "      <td>...</td>\n",
       "      <td>...</td>\n",
       "      <td>...</td>\n",
       "      <td>...</td>\n",
       "    </tr>\n",
       "    <tr>\n",
       "      <th>197</th>\n",
       "      <td>CHEMBL3809833</td>\n",
       "      <td>O=C(O)c1cccc(N2N=C(c3ccccc3)/C(=C/c3ccco3)C2=O)c1</td>\n",
       "      <td>50000.0</td>\n",
       "      <td>nM</td>\n",
       "      <td>444.490</td>\n",
       "      <td>69.97</td>\n",
       "      <td>5.88630</td>\n",
       "      <td>3.0</td>\n",
       "      <td>1.0</td>\n",
       "    </tr>\n",
       "    <tr>\n",
       "      <th>198</th>\n",
       "      <td>CHEMBL3809053</td>\n",
       "      <td>O=C(O)c1cccc(N2N=C(c3ccccc3)/C(=C/c3ccc(-c4ccc...</td>\n",
       "      <td>6700.0</td>\n",
       "      <td>nM</td>\n",
       "      <td>474.516</td>\n",
       "      <td>79.20</td>\n",
       "      <td>5.79830</td>\n",
       "      <td>4.0</td>\n",
       "      <td>1.0</td>\n",
       "    </tr>\n",
       "    <tr>\n",
       "      <th>199</th>\n",
       "      <td>CHEMBL3818028</td>\n",
       "      <td>CC(=O)N[C@@H](CC(N)=O)C(=O)N[C@@H](CO)C(=O)N[C...</td>\n",
       "      <td>20000.0</td>\n",
       "      <td>nM</td>\n",
       "      <td>496.605</td>\n",
       "      <td>143.14</td>\n",
       "      <td>1.73670</td>\n",
       "      <td>7.0</td>\n",
       "      <td>3.0</td>\n",
       "    </tr>\n",
       "    <tr>\n",
       "      <th>200</th>\n",
       "      <td>CHEMBL4208240</td>\n",
       "      <td>CC(C)C[C@H](NC(=O)OC1CCN(C(=O)OC(C)(C)C)CC1)C(...</td>\n",
       "      <td>5100.0</td>\n",
       "      <td>nM</td>\n",
       "      <td>474.580</td>\n",
       "      <td>150.98</td>\n",
       "      <td>-0.23880</td>\n",
       "      <td>7.0</td>\n",
       "      <td>3.0</td>\n",
       "    </tr>\n",
       "    <tr>\n",
       "      <th>201</th>\n",
       "      <td>CHEMBL4216101</td>\n",
       "      <td>CCC1(OC(=O)N[C@@H](CC(C)C)C(=O)N[C@@H](C[C@@H]...</td>\n",
       "      <td>4100.0</td>\n",
       "      <td>nM</td>\n",
       "      <td>468.551</td>\n",
       "      <td>143.14</td>\n",
       "      <td>0.95810</td>\n",
       "      <td>7.0</td>\n",
       "      <td>3.0</td>\n",
       "    </tr>\n",
       "  </tbody>\n",
       "</table>\n",
       "<p>202 rows × 9 columns</p>\n",
       "</div>"
      ],
      "text/plain": [
       "    molecule_chembl_id                                   canonical_smiles  \\\n",
       "0         CHEMBL187579             Cc1noc(C)c1CN1C(=O)C(=O)c2cc(C#N)ccc21   \n",
       "1         CHEMBL188487             O=C1C(=O)N(Cc2ccc(F)cc2Cl)c2ccc(I)cc21   \n",
       "2         CHEMBL185698            O=C1C(=O)N(CC2COc3ccccc3O2)c2ccc(I)cc21   \n",
       "3         CHEMBL426082                O=C1C(=O)N(Cc2cc3ccccc3s2)c2ccccc21   \n",
       "4         CHEMBL187717    O=C1C(=O)N(Cc2cc3ccccc3s2)c2c1cccc2[N+](=O)[O-]   \n",
       "..                 ...                                                ...   \n",
       "197      CHEMBL3809833  O=C(O)c1cccc(N2N=C(c3ccccc3)/C(=C/c3ccco3)C2=O)c1   \n",
       "198      CHEMBL3809053  O=C(O)c1cccc(N2N=C(c3ccccc3)/C(=C/c3ccc(-c4ccc...   \n",
       "199      CHEMBL3818028  CC(=O)N[C@@H](CC(N)=O)C(=O)N[C@@H](CO)C(=O)N[C...   \n",
       "200      CHEMBL4208240  CC(C)C[C@H](NC(=O)OC1CCN(C(=O)OC(C)(C)C)CC1)C(...   \n",
       "201      CHEMBL4216101  CCC1(OC(=O)N[C@@H](CC(C)C)C(=O)N[C@@H](C[C@@H]...   \n",
       "\n",
       "     standard_value standard_units  MOLECULAR WEIGHT     PSA     logP  HBA  \\\n",
       "0            7200.0             nM           281.271   87.20  1.89262  5.0   \n",
       "1            9400.0             nM           415.589   37.38  3.81320  2.0   \n",
       "2           13500.0             nM           421.190   55.84  2.66050  4.0   \n",
       "3           13110.0             nM           293.347   37.38  3.63080  3.0   \n",
       "4            2000.0             nM           338.344   80.52  3.53900  5.0   \n",
       "..              ...            ...               ...     ...      ...  ...   \n",
       "197         50000.0             nM           444.490   69.97  5.88630  3.0   \n",
       "198          6700.0             nM           474.516   79.20  5.79830  4.0   \n",
       "199         20000.0             nM           496.605  143.14  1.73670  7.0   \n",
       "200          5100.0             nM           474.580  150.98 -0.23880  7.0   \n",
       "201          4100.0             nM           468.551  143.14  0.95810  7.0   \n",
       "\n",
       "     HBD  \n",
       "0    0.0  \n",
       "1    0.0  \n",
       "2    0.0  \n",
       "3    0.0  \n",
       "4    0.0  \n",
       "..   ...  \n",
       "197  1.0  \n",
       "198  1.0  \n",
       "199  3.0  \n",
       "200  3.0  \n",
       "201  3.0  \n",
       "\n",
       "[202 rows x 9 columns]"
      ]
     },
     "execution_count": 3,
     "metadata": {},
     "output_type": "execute_result"
    }
   ],
   "source": [
    "DF=pd.read_csv('FINAL_DSE_DATA.csv')\n",
    "DF"
   ]
  },
  {
   "cell_type": "code",
   "execution_count": 4,
   "metadata": {},
   "outputs": [],
   "source": [
    "x=DF[\"PSA\"].values.reshape(-1,1)\n",
    "y=DF[\"standard_value\"].values.reshape(-1,1)"
   ]
  },
  {
   "cell_type": "code",
   "execution_count": 5,
   "metadata": {},
   "outputs": [],
   "source": [
    "from sklearn.model_selection import train_test_split\n",
    "X_train, X_test, Y_train, Y_test = train_test_split(x, y,random_state=0)"
   ]
  },
  {
   "cell_type": "code",
   "execution_count": 6,
   "metadata": {},
   "outputs": [
    {
     "data": {
      "text/plain": [
       "GridSearchCV(cv=5, estimator=Ridge(),\n",
       "             param_grid={'alpha': [1e-15, 1e-10, 1e-08, 0.0001, 0.001, 0.01, 1,\n",
       "                                   5, 10, 20]},\n",
       "             scoring='neg_mean_squared_error')"
      ]
     },
     "execution_count": 6,
     "metadata": {},
     "output_type": "execute_result"
    }
   ],
   "source": [
    "#Ridge regression\n",
    "from sklearn.model_selection import GridSearchCV\n",
    "from sklearn.linear_model import Ridge\n",
    "ridge=Ridge()\n",
    "parameters={'alpha':[1e-15,1e-10,1e-8,1e-4,1e-3,1e-2,1,5,10,20]}\n",
    "ridge_regressor=GridSearchCV(ridge,parameters,scoring='neg_mean_squared_error',cv=5)\n",
    "ridge_regressor.fit(x,y)\n"
   ]
  },
  {
   "cell_type": "code",
   "execution_count": 7,
   "metadata": {},
   "outputs": [
    {
     "name": "stdout",
     "output_type": "stream",
     "text": [
      "{'alpha': 20}\n",
      "-6.300491080144423e+26\n"
     ]
    }
   ],
   "source": [
    "print(ridge_regressor.best_params_)\n",
    "print(ridge_regressor.best_score_)"
   ]
  },
  {
   "cell_type": "code",
   "execution_count": 8,
   "metadata": {},
   "outputs": [
    {
     "name": "stderr",
     "output_type": "stream",
     "text": [
      "C:\\Users\\sudha\\anaconda3\\envs\\my-rdkit-env\\lib\\site-packages\\sklearn\\linear_model\\_coordinate_descent.py:531: ConvergenceWarning: Objective did not converge. You might want to increase the number of iterations. Duality gap: 2.4903506037877204e+27, tolerance: 4.980742687589072e+23\n",
      "  positive)\n",
      "C:\\Users\\sudha\\anaconda3\\envs\\my-rdkit-env\\lib\\site-packages\\sklearn\\linear_model\\_coordinate_descent.py:531: ConvergenceWarning: Objective did not converge. You might want to increase the number of iterations. Duality gap: 5.966074674904286e+28, tolerance: 1.1932985814735488e+25\n",
      "  positive)\n",
      "C:\\Users\\sudha\\anaconda3\\envs\\my-rdkit-env\\lib\\site-packages\\sklearn\\linear_model\\_coordinate_descent.py:531: ConvergenceWarning: Objective did not converge. You might want to increase the number of iterations. Duality gap: 6.186488138134933e+28, tolerance: 1.2375697461976e+25\n",
      "  positive)\n",
      "C:\\Users\\sudha\\anaconda3\\envs\\my-rdkit-env\\lib\\site-packages\\sklearn\\linear_model\\_coordinate_descent.py:531: ConvergenceWarning: Objective did not converge. You might want to increase the number of iterations. Duality gap: 6.1861919050170396e+28, tolerance: 1.237569746298731e+25\n",
      "  positive)\n",
      "C:\\Users\\sudha\\anaconda3\\envs\\my-rdkit-env\\lib\\site-packages\\sklearn\\linear_model\\_coordinate_descent.py:531: ConvergenceWarning: Objective did not converge. You might want to increase the number of iterations. Duality gap: 6.187728341208599e+28, tolerance: 1.237569746211776e+25\n",
      "  positive)\n",
      "C:\\Users\\sudha\\anaconda3\\envs\\my-rdkit-env\\lib\\site-packages\\sklearn\\linear_model\\_coordinate_descent.py:531: ConvergenceWarning: Objective did not converge. You might want to increase the number of iterations. Duality gap: 2.490349137484164e+27, tolerance: 4.980742687589072e+23\n",
      "  positive)\n",
      "C:\\Users\\sudha\\anaconda3\\envs\\my-rdkit-env\\lib\\site-packages\\sklearn\\linear_model\\_coordinate_descent.py:531: ConvergenceWarning: Objective did not converge. You might want to increase the number of iterations. Duality gap: 5.966074290692926e+28, tolerance: 1.1932985814735488e+25\n",
      "  positive)\n",
      "C:\\Users\\sudha\\anaconda3\\envs\\my-rdkit-env\\lib\\site-packages\\sklearn\\linear_model\\_coordinate_descent.py:531: ConvergenceWarning: Objective did not converge. You might want to increase the number of iterations. Duality gap: 6.186487737254517e+28, tolerance: 1.2375697461976e+25\n",
      "  positive)\n",
      "C:\\Users\\sudha\\anaconda3\\envs\\my-rdkit-env\\lib\\site-packages\\sklearn\\linear_model\\_coordinate_descent.py:531: ConvergenceWarning: Objective did not converge. You might want to increase the number of iterations. Duality gap: 6.186191504155818e+28, tolerance: 1.237569746298731e+25\n",
      "  positive)\n",
      "C:\\Users\\sudha\\anaconda3\\envs\\my-rdkit-env\\lib\\site-packages\\sklearn\\linear_model\\_coordinate_descent.py:531: ConvergenceWarning: Objective did not converge. You might want to increase the number of iterations. Duality gap: 6.1877275392870515e+28, tolerance: 1.237569746211776e+25\n",
      "  positive)\n",
      "C:\\Users\\sudha\\anaconda3\\envs\\my-rdkit-env\\lib\\site-packages\\sklearn\\linear_model\\_coordinate_descent.py:531: ConvergenceWarning: Objective did not converge. You might want to increase the number of iterations. Duality gap: 2.490203974117252e+27, tolerance: 4.980742687589072e+23\n",
      "  positive)\n",
      "C:\\Users\\sudha\\anaconda3\\envs\\my-rdkit-env\\lib\\site-packages\\sklearn\\linear_model\\_coordinate_descent.py:531: ConvergenceWarning: Objective did not converge. You might want to increase the number of iterations. Duality gap: 5.9660362534490805e+28, tolerance: 1.1932985814735488e+25\n",
      "  positive)\n",
      "C:\\Users\\sudha\\anaconda3\\envs\\my-rdkit-env\\lib\\site-packages\\sklearn\\linear_model\\_coordinate_descent.py:531: ConvergenceWarning: Objective did not converge. You might want to increase the number of iterations. Duality gap: 6.18644804976075e+28, tolerance: 1.2375697461976e+25\n",
      "  positive)\n",
      "C:\\Users\\sudha\\anaconda3\\envs\\my-rdkit-env\\lib\\site-packages\\sklearn\\linear_model\\_coordinate_descent.py:531: ConvergenceWarning: Objective did not converge. You might want to increase the number of iterations. Duality gap: 6.1861518185624435e+28, tolerance: 1.237569746298731e+25\n",
      "  positive)\n",
      "C:\\Users\\sudha\\anaconda3\\envs\\my-rdkit-env\\lib\\site-packages\\sklearn\\linear_model\\_coordinate_descent.py:531: ConvergenceWarning: Objective did not converge. You might want to increase the number of iterations. Duality gap: 6.187648148517141e+28, tolerance: 1.237569746211776e+25\n",
      "  positive)\n",
      "C:\\Users\\sudha\\anaconda3\\envs\\my-rdkit-env\\lib\\site-packages\\sklearn\\linear_model\\_coordinate_descent.py:531: ConvergenceWarning: Objective did not converge. You might want to increase the number of iterations. Duality gap: 5.588045330709977e+28, tolerance: 1.1932985814735488e+25\n",
      "  positive)\n",
      "C:\\Users\\sudha\\anaconda3\\envs\\my-rdkit-env\\lib\\site-packages\\sklearn\\linear_model\\_coordinate_descent.py:531: ConvergenceWarning: Objective did not converge. You might want to increase the number of iterations. Duality gap: 5.792098034575431e+28, tolerance: 1.2375697461976e+25\n",
      "  positive)\n",
      "C:\\Users\\sudha\\anaconda3\\envs\\my-rdkit-env\\lib\\site-packages\\sklearn\\linear_model\\_coordinate_descent.py:531: ConvergenceWarning: Objective did not converge. You might want to increase the number of iterations. Duality gap: 5.791820686389899e+28, tolerance: 1.237569746298731e+25\n",
      "  positive)\n",
      "C:\\Users\\sudha\\anaconda3\\envs\\my-rdkit-env\\lib\\site-packages\\sklearn\\linear_model\\_coordinate_descent.py:531: ConvergenceWarning: Objective did not converge. You might want to increase the number of iterations. Duality gap: 5.411781267008846e+28, tolerance: 1.237569746211776e+25\n",
      "  positive)\n",
      "C:\\Users\\sudha\\anaconda3\\envs\\my-rdkit-env\\lib\\site-packages\\sklearn\\linear_model\\_coordinate_descent.py:531: ConvergenceWarning: Objective did not converge. You might want to increase the number of iterations. Duality gap: 2.742509070860468e+28, tolerance: 1.1932985814735488e+25\n",
      "  positive)\n",
      "C:\\Users\\sudha\\anaconda3\\envs\\my-rdkit-env\\lib\\site-packages\\sklearn\\linear_model\\_coordinate_descent.py:531: ConvergenceWarning: Objective did not converge. You might want to increase the number of iterations. Duality gap: 7.665306262679664e+27, tolerance: 1.2375697461976e+25\n",
      "  positive)\n",
      "C:\\Users\\sudha\\anaconda3\\envs\\my-rdkit-env\\lib\\site-packages\\sklearn\\linear_model\\_coordinate_descent.py:531: ConvergenceWarning: Objective did not converge. You might want to increase the number of iterations. Duality gap: 2.8269412319888994e+28, tolerance: 1.237569746298731e+25\n",
      "  positive)\n",
      "C:\\Users\\sudha\\anaconda3\\envs\\my-rdkit-env\\lib\\site-packages\\sklearn\\linear_model\\_coordinate_descent.py:531: ConvergenceWarning: Objective did not converge. You might want to increase the number of iterations. Duality gap: 7.666842923901043e+27, tolerance: 1.237569746211776e+25\n",
      "  positive)\n",
      "C:\\Users\\sudha\\anaconda3\\envs\\my-rdkit-env\\lib\\site-packages\\sklearn\\linear_model\\_coordinate_descent.py:531: ConvergenceWarning: Objective did not converge. You might want to increase the number of iterations. Duality gap: 2.2685998951338223e+27, tolerance: 1.1932985814735488e+25\n",
      "  positive)\n",
      "C:\\Users\\sudha\\anaconda3\\envs\\my-rdkit-env\\lib\\site-packages\\sklearn\\linear_model\\_coordinate_descent.py:531: ConvergenceWarning: Objective did not converge. You might want to increase the number of iterations. Duality gap: 4.849974453536505e+27, tolerance: 1.237569746298731e+25\n",
      "  positive)\n"
     ]
    },
    {
     "data": {
      "text/plain": [
       "GridSearchCV(cv=5, estimator=Lasso(),\n",
       "             param_grid={'alpha': [1e-15, 1e-10, 1e-08, 0.0001, 0.001, 0.01, 1,\n",
       "                                   5, 10, 20]},\n",
       "             scoring='neg_mean_squared_error')"
      ]
     },
     "execution_count": 8,
     "metadata": {},
     "output_type": "execute_result"
    }
   ],
   "source": [
    "#Lasso regression\n",
    "from sklearn.linear_model import Lasso\n",
    "lasso=Lasso()\n",
    "parameters={'alpha':[1e-15,1e-10,1e-8,1e-4,1e-3,1e-2,1,5,10,20]}\n",
    "lasso_regressor=GridSearchCV(lasso,parameters,scoring='neg_mean_squared_error',cv=5)\n",
    "lasso_regressor.fit(x,y)\n"
   ]
  },
  {
   "cell_type": "code",
   "execution_count": 9,
   "metadata": {},
   "outputs": [
    {
     "name": "stdout",
     "output_type": "stream",
     "text": [
      "{'alpha': 20}\n",
      "-6.300492339382656e+26\n"
     ]
    }
   ],
   "source": [
    "print(lasso_regressor.best_params_)\n",
    "print(lasso_regressor.best_score_)"
   ]
  },
  {
   "cell_type": "code",
   "execution_count": 12,
   "metadata": {},
   "outputs": [],
   "source": [
    "x=DF[\"MOLECULAR WEIGHT\"].values.reshape(-1,1)\n",
    "y=DF[\"standard_value\"].values.reshape(-1,1)"
   ]
  },
  {
   "cell_type": "code",
   "execution_count": 13,
   "metadata": {},
   "outputs": [],
   "source": [
    "from sklearn.model_selection import train_test_split\n",
    "X_train, X_test, Y_train, Y_test = train_test_split(x, y,random_state=0)"
   ]
  },
  {
   "cell_type": "code",
   "execution_count": 14,
   "metadata": {},
   "outputs": [
    {
     "data": {
      "image/png": "[encoded data removed]",
      "text/plain": [
       "<Figure size 432x288 with 1 Axes>"
      ]
     },
     "metadata": {
      "needs_background": "light"
     },
     "output_type": "display_data"
    },
    {
     "data": {
      "text/plain": [
       "-1.1904716912162823e+23"
      ]
     },
     "execution_count": 14,
     "metadata": {},
     "output_type": "execute_result"
    }
   ],
   "source": [
    "from sklearn.linear_model import LinearRegression \n",
    "from sklearn.metrics import r2_score\n",
    "regr = LinearRegression() \n",
    "regr.fit(X_train, Y_train) \n",
    "y_pred = regr.predict(X_test) \n",
    "plt.scatter(X_test, Y_test, color ='b') \n",
    "plt.plot(X_test, y_pred, color ='k') \n",
    "plt.show()\n",
    "r2_score(x,y)"
   ]
  }
 ],
 "metadata": {
  "kernelspec": {
   "display_name": "Python 3",
   "language": "python",
   "name": "python3"
  },
  "language_info": {
   "codemirror_mode": {
    "name": "ipython",
    "version": 3
   },
   "file_extension": ".py",
   "mimetype": "text/x-python",
   "name": "python",
   "nbconvert_exporter": "python",
   "pygments_lexer": "ipython3",
   "version": "3.6.12"
  }
 },
 "nbformat": 4,
 "nbformat_minor": 4
}
